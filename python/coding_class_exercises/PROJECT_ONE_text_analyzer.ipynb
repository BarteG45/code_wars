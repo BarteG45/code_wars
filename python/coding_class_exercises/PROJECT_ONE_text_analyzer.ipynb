{
 "cells": [
  {
   "cell_type": "markdown",
   "metadata": {},
   "source": [
    "## Text Analyzer\n",
    "#### Project Description:\n",
    "\n",
    "In this project, you will write a Python script to analyze the word frequency in a text file. The script will read a text file, clean the text by removing punctuation and converting all words to lowercase, and then count the occurrences of each word. Finally, it will print out the list of words along with their frequencies in descending order.\n",
    "\n",
    "#### Project Tasks:\n",
    "\n",
    "Read the text from a file.\n",
    "Convert all text to lowercase.\n",
    "Remove punctuation characters from the text. You can create a list of punctuation characters to remove.\n",
    "Count the occurrences of each word in the cleaned text.\n",
    "Store the word frequencies in a dictionary.\n",
    "For extra credit you can try to return the dictionary in an ordered way, descending (from most common to least common) using methods you got acquainted with during the course.\n",
    "\n",
    "**Output**:\n",
    "\n",
    "Print the list of words along with their frequencies.\n",
    "\n",
    "Each word-frequency pair should be printed in a separate line.\n",
    "\n",
    "**Testing**:\n",
    "\n",
    "Test your script with various text files of different sizes and contents to ensure it works correctly."
   ]
  },
  {
   "cell_type": "markdown",
   "metadata": {},
   "source": [
    "1. Opening the text and setting lowercase letters:"
   ]
  },
  {
   "cell_type": "code",
   "execution_count": null,
   "metadata": {},
   "outputs": [],
   "source": [
    "myfile = open('Tekst 5.txt')\n",
    "newfile = myfile.read().lower()"
   ]
  },
  {
   "cell_type": "markdown",
   "metadata": {},
   "source": [
    "2. In the next step, we need to remove all the punctuation - to make this, we can make a function: "
   ]
  },
  {
   "cell_type": "code",
   "execution_count": null,
   "metadata": {},
   "outputs": [],
   "source": [
    "def commas(string):\n",
    "    result = \"\"\n",
    "    for char in string:\n",
    "        if char != \",\" and char!= \"”\" and char!= \"–\" and char!=\"\\n\" and char != \"]\" and char != \"[\" and char != \":\" and char != \"?\" and char !=\"(\" and char != \")\" and char!= \".\" and char!=\"'\" and char!=\"!\" and char!='\"' and char!=\"„\" and char!=\"...\":\n",
    "            result += char\n",
    "    return result"
   ]
  },
  {
   "cell_type": "markdown",
   "metadata": {},
   "source": [
    "3. Using created function, we can delete all the punctuation"
   ]
  },
  {
   "cell_type": "code",
   "execution_count": null,
   "metadata": {},
   "outputs": [],
   "source": [
    "commas(newfile)"
   ]
  },
  {
   "cell_type": "markdown",
   "metadata": {},
   "source": [
    "4. Next we need to split the words from sentences:"
   ]
  },
  {
   "cell_type": "code",
   "execution_count": null,
   "metadata": {},
   "outputs": [],
   "source": [
    "newfiletwo = commas(newfile).split()"
   ]
  },
  {
   "cell_type": "markdown",
   "metadata": {},
   "source": [
    "5. Now we need to count the frequency of particular words:"
   ]
  },
  {
   "cell_type": "code",
   "execution_count": null,
   "metadata": {},
   "outputs": [],
   "source": [
    "from collections import Counter\n",
    "Counter(newfiletwo)"
   ]
  },
  {
   "cell_type": "markdown",
   "metadata": {},
   "source": [
    "6. Let's put our words in order by their frequency (descending):"
   ]
  },
  {
   "cell_type": "code",
   "execution_count": null,
   "metadata": {},
   "outputs": [],
   "source": [
    "count = Counter(newfiletwo)\n",
    "dict(count.most_common())"
   ]
  },
  {
   "cell_type": "markdown",
   "metadata": {},
   "source": [
    "7. And ascending:"
   ]
  },
  {
   "cell_type": "code",
   "execution_count": null,
   "metadata": {},
   "outputs": [],
   "source": [
    "dict(count.most_common()[::-1])"
   ]
  }
 ],
 "metadata": {
  "language_info": {
   "name": "python"
  }
 },
 "nbformat": 4,
 "nbformat_minor": 2
}
